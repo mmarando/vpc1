{
 "cells": [
  {
   "cell_type": "markdown",
   "metadata": {},
   "source": [
    "## CEIA - Visión por Computadora I - TP1\n",
    "\n",
    "#### Consigna \n",
    "\n",
    "* Parte 1 (imágenes en `/white_patch` y `/coord_cromaticas`):\n",
    "    1. Implementar el algoritmo de pasaje a coordenadas cromáticas para librarnos de las variaciones de contraste.\n",
    "    2. Implementar el algoritmo White Patch para librarnos de las diferencias de color de iluminación.\n",
    "    3. Mostrar los resultados obtenidos y analizar las posibles fallas (si es que las hay) en el caso de White patch.\n",
    "\n",
    "* Parte 2:\n",
    "    1. Para las imágenes `img1_tp.png` y `img2_tp.png` leerlas con OpenCV en escala de grisas y visualizarlas.\n",
    "    2. Elija el numero de bins que crea conveniente y grafique su histograma, compare los histogramas entre si.\n",
    "    Explicar lo que se observa, si tuviera que entrenar un modelo de clasificación/detección de imágenes,\n",
    "    considera que puede ser de utilidad tomar como ‘features’ a los histogramas?\n",
    "    3. Para la imagen `segmentacion.png` analice el histograma de los canales RGB. Segmente algunos de los\n",
    "    elementos presentes en la imagen (agua, cielo, tierra) y muestre, aplicando mascaras, las regiones en imágenes\n",
    "    separadas.\n",
    "\n",
    "--------------\n",
    "\n",
    "#### Resolución "
   ]
  }
 ],
 "metadata": {
  "kernelspec": {
   "display_name": "venv_ia",
   "language": "python",
   "name": "python3"
  },
  "language_info": {
   "codemirror_mode": {
    "name": "ipython",
    "version": 3
   },
   "file_extension": ".py",
   "mimetype": "text/x-python",
   "name": "python",
   "nbconvert_exporter": "python",
   "pygments_lexer": "ipython3",
   "version": "3.8.10"
  }
 },
 "nbformat": 4,
 "nbformat_minor": 2
}
